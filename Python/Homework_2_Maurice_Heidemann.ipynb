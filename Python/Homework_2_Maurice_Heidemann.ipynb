{
  "nbformat": 4,
  "nbformat_minor": 0,
  "metadata": {
    "colab": {
      "provenance": []
    },
    "kernelspec": {
      "name": "python3",
      "display_name": "Python 3"
    },
    "language_info": {
      "name": "python"
    }
  },
  "cells": [
    {
      "cell_type": "markdown",
      "source": [
        "# Homework 2:\n"
      ],
      "metadata": {
        "id": "xth8LBxJ7wAu"
      }
    },
    {
      "cell_type": "markdown",
      "source": [
        "# Speed Control Fines:"
      ],
      "metadata": {
        "id": "RV82PcanJrPo"
      }
    },
    {
      "cell_type": "code",
      "source": [
        "from google.colab import drive\n",
        "import pandas as pd\n",
        "import numpy as np\n",
        "import seaborn as sns\n",
        "import matplotlib.pyplot as plt\n",
        "import calendar\n",
        "drive.mount('/content/drive')"
      ],
      "metadata": {
        "id": "1R5EP5u7J10K"
      },
      "execution_count": null,
      "outputs": []
    },
    {
      "cell_type": "code",
      "source": [
        "#Reads in the csv file\n",
        "speed_fines = pd.read_csv('/content/drive/My Drive/31-M29_HW2_2022_Speed_Control_Fines_Cologne.csv', delimiter = ';', decimal = ',', encoding = 'ISO-8859-1')"
      ],
      "metadata": {
        "id": "kEqRwJM5KWCY"
      },
      "execution_count": null,
      "outputs": []
    },
    {
      "cell_type": "markdown",
      "source": [
        "# Clean the Data:"
      ],
      "metadata": {
        "id": "WuFrEtfQ0RIV"
      }
    },
    {
      "cell_type": "code",
      "source": [
        "speed_fines['Speed'] = speed_fines['Speed'].replace('FFF', np.nan)\n",
        "speed_fines['Limit_Exceeded_By'] = speed_fines['Limit_Exceeded_By'].astype(str)\n",
        "speed_fines['Limit_Exceeded_By'] = speed_fines['Limit_Exceeded_By'].replace('   ', np.nan)\n",
        "speed_fines['Limit_Exceeded_By'] = speed_fines['Limit_Exceeded_By'].replace('nan', np.nan)"
      ],
      "metadata": {
        "id": "9BwuGcJx0UYn"
      },
      "execution_count": 4,
      "outputs": []
    },
    {
      "cell_type": "markdown",
      "source": [
        "# 1. Non-graphical Representation: Number of fines per year"
      ],
      "metadata": {
        "id": "jF-fUOIV3u-K"
      }
    },
    {
      "cell_type": "code",
      "source": [
        "# Group the data by year and count the number of records for each year\n",
        "fines_per_year = speed_fines.groupby('Year').count()\n",
        "fines_per_year['Number of fines per year'] = fines_per_year['Date']\n",
        "\n",
        "# Print the resulting Series\n",
        "fines_per_year[['Number of fines per year']]"
      ],
      "metadata": {
        "colab": {
          "base_uri": "https://localhost:8080/",
          "height": 237
        },
        "id": "J3wpjPt02Awk",
        "outputId": "8cd31134-1f99-4fb3-8f03-c9ec6eed5906"
      },
      "execution_count": 5,
      "outputs": [
        {
          "output_type": "execute_result",
          "data": {
            "text/plain": [
              "      Number of fines per year\n",
              "Year                          \n",
              "2017                    551096\n",
              "2018                    609615\n",
              "2019                    564405\n",
              "2020                    598161\n",
              "2021                    609034"
            ],
            "text/html": [
              "\n",
              "  <div id=\"df-9a0480a5-b343-434b-ad58-d44d6d91bbd9\">\n",
              "    <div class=\"colab-df-container\">\n",
              "      <div>\n",
              "<style scoped>\n",
              "    .dataframe tbody tr th:only-of-type {\n",
              "        vertical-align: middle;\n",
              "    }\n",
              "\n",
              "    .dataframe tbody tr th {\n",
              "        vertical-align: top;\n",
              "    }\n",
              "\n",
              "    .dataframe thead th {\n",
              "        text-align: right;\n",
              "    }\n",
              "</style>\n",
              "<table border=\"1\" class=\"dataframe\">\n",
              "  <thead>\n",
              "    <tr style=\"text-align: right;\">\n",
              "      <th></th>\n",
              "      <th>Number of fines per year</th>\n",
              "    </tr>\n",
              "    <tr>\n",
              "      <th>Year</th>\n",
              "      <th></th>\n",
              "    </tr>\n",
              "  </thead>\n",
              "  <tbody>\n",
              "    <tr>\n",
              "      <th>2017</th>\n",
              "      <td>551096</td>\n",
              "    </tr>\n",
              "    <tr>\n",
              "      <th>2018</th>\n",
              "      <td>609615</td>\n",
              "    </tr>\n",
              "    <tr>\n",
              "      <th>2019</th>\n",
              "      <td>564405</td>\n",
              "    </tr>\n",
              "    <tr>\n",
              "      <th>2020</th>\n",
              "      <td>598161</td>\n",
              "    </tr>\n",
              "    <tr>\n",
              "      <th>2021</th>\n",
              "      <td>609034</td>\n",
              "    </tr>\n",
              "  </tbody>\n",
              "</table>\n",
              "</div>\n",
              "      <button class=\"colab-df-convert\" onclick=\"convertToInteractive('df-9a0480a5-b343-434b-ad58-d44d6d91bbd9')\"\n",
              "              title=\"Convert this dataframe to an interactive table.\"\n",
              "              style=\"display:none;\">\n",
              "        \n",
              "  <svg xmlns=\"http://www.w3.org/2000/svg\" height=\"24px\"viewBox=\"0 0 24 24\"\n",
              "       width=\"24px\">\n",
              "    <path d=\"M0 0h24v24H0V0z\" fill=\"none\"/>\n",
              "    <path d=\"M18.56 5.44l.94 2.06.94-2.06 2.06-.94-2.06-.94-.94-2.06-.94 2.06-2.06.94zm-11 1L8.5 8.5l.94-2.06 2.06-.94-2.06-.94L8.5 2.5l-.94 2.06-2.06.94zm10 10l.94 2.06.94-2.06 2.06-.94-2.06-.94-.94-2.06-.94 2.06-2.06.94z\"/><path d=\"M17.41 7.96l-1.37-1.37c-.4-.4-.92-.59-1.43-.59-.52 0-1.04.2-1.43.59L10.3 9.45l-7.72 7.72c-.78.78-.78 2.05 0 2.83L4 21.41c.39.39.9.59 1.41.59.51 0 1.02-.2 1.41-.59l7.78-7.78 2.81-2.81c.8-.78.8-2.07 0-2.86zM5.41 20L4 18.59l7.72-7.72 1.47 1.35L5.41 20z\"/>\n",
              "  </svg>\n",
              "      </button>\n",
              "      \n",
              "  <style>\n",
              "    .colab-df-container {\n",
              "      display:flex;\n",
              "      flex-wrap:wrap;\n",
              "      gap: 12px;\n",
              "    }\n",
              "\n",
              "    .colab-df-convert {\n",
              "      background-color: #E8F0FE;\n",
              "      border: none;\n",
              "      border-radius: 50%;\n",
              "      cursor: pointer;\n",
              "      display: none;\n",
              "      fill: #1967D2;\n",
              "      height: 32px;\n",
              "      padding: 0 0 0 0;\n",
              "      width: 32px;\n",
              "    }\n",
              "\n",
              "    .colab-df-convert:hover {\n",
              "      background-color: #E2EBFA;\n",
              "      box-shadow: 0px 1px 2px rgba(60, 64, 67, 0.3), 0px 1px 3px 1px rgba(60, 64, 67, 0.15);\n",
              "      fill: #174EA6;\n",
              "    }\n",
              "\n",
              "    [theme=dark] .colab-df-convert {\n",
              "      background-color: #3B4455;\n",
              "      fill: #D2E3FC;\n",
              "    }\n",
              "\n",
              "    [theme=dark] .colab-df-convert:hover {\n",
              "      background-color: #434B5C;\n",
              "      box-shadow: 0px 1px 3px 1px rgba(0, 0, 0, 0.15);\n",
              "      filter: drop-shadow(0px 1px 2px rgba(0, 0, 0, 0.3));\n",
              "      fill: #FFFFFF;\n",
              "    }\n",
              "  </style>\n",
              "\n",
              "      <script>\n",
              "        const buttonEl =\n",
              "          document.querySelector('#df-9a0480a5-b343-434b-ad58-d44d6d91bbd9 button.colab-df-convert');\n",
              "        buttonEl.style.display =\n",
              "          google.colab.kernel.accessAllowed ? 'block' : 'none';\n",
              "\n",
              "        async function convertToInteractive(key) {\n",
              "          const element = document.querySelector('#df-9a0480a5-b343-434b-ad58-d44d6d91bbd9');\n",
              "          const dataTable =\n",
              "            await google.colab.kernel.invokeFunction('convertToInteractive',\n",
              "                                                     [key], {});\n",
              "          if (!dataTable) return;\n",
              "\n",
              "          const docLinkHtml = 'Like what you see? Visit the ' +\n",
              "            '<a target=\"_blank\" href=https://colab.research.google.com/notebooks/data_table.ipynb>data table notebook</a>'\n",
              "            + ' to learn more about interactive tables.';\n",
              "          element.innerHTML = '';\n",
              "          dataTable['output_type'] = 'display_data';\n",
              "          await google.colab.output.renderOutput(dataTable, element);\n",
              "          const docLink = document.createElement('div');\n",
              "          docLink.innerHTML = docLinkHtml;\n",
              "          element.appendChild(docLink);\n",
              "        }\n",
              "      </script>\n",
              "    </div>\n",
              "  </div>\n",
              "  "
            ]
          },
          "metadata": {},
          "execution_count": 5
        }
      ]
    },
    {
      "cell_type": "markdown",
      "source": [
        "# Describtion:\n",
        "\n",
        "This representation allows us to see if the number of fines is increasing or decreasing over the years and identify  any patterns or trends that may exist. For Example, we could see that the number of fines tends to be higher during certain years, which could be due to factors such as increased traffic or stricter enforcement of speed limits. Overall this representation provides valuable insights into the trends in the number of speed control fines issued in cologne, which can help identify sudden increases or decreases in the number of fines in a particular year."
      ],
      "metadata": {
        "id": "ad144wYp7TYI"
      }
    },
    {
      "cell_type": "markdown",
      "source": [
        "# 2. Non-graphical Representation: Number of fines issued per vehicle type:"
      ],
      "metadata": {
        "id": "kHOHPW_z-mCc"
      }
    },
    {
      "cell_type": "code",
      "source": [
        "# Group the data by vehicle type and count the number of records for each year\n",
        "fines_per_vehicle = speed_fines.groupby('Vehicle_Type').count()\n",
        "fines_per_vehicle['Number of fines issued per vehicle type'] = fines_per_vehicle['Date']\n",
        "\n",
        "# Print the resulting Series\n",
        "fines_per_vehicle[['Number of fines issued per vehicle type']]"
      ],
      "metadata": {
        "colab": {
          "base_uri": "https://localhost:8080/",
          "height": 708
        },
        "id": "9HbBF3pq-x0x",
        "outputId": "ec9445ae-c989-4baa-e0cc-6cd0df830cb3"
      },
      "execution_count": 6,
      "outputs": [
        {
          "output_type": "execute_result",
          "data": {
            "text/plain": [
              "              Number of fines issued per vehicle type\n",
              "Vehicle_Type                                         \n",
              "01a                                               215\n",
              "02a                                                 2\n",
              "03a                                                11\n",
              "04a                                           2890713\n",
              "05a                                              6173\n",
              "06a                                             10602\n",
              "06b                                              5927\n",
              "06c                                             12641\n",
              "06d                                               189\n",
              "07a                                               275\n",
              "08a                                              1329\n",
              "08b                                               922\n",
              "09a                                                10\n",
              "10a                                               297\n",
              "11a                                              2365\n",
              "11b                                                28\n",
              "12a                                                 3\n",
              "13a                                                 5\n",
              "6                                                   1\n",
              "99a                                               603"
            ],
            "text/html": [
              "\n",
              "  <div id=\"df-b378e17a-492c-4c82-9ef9-19644c4c2592\">\n",
              "    <div class=\"colab-df-container\">\n",
              "      <div>\n",
              "<style scoped>\n",
              "    .dataframe tbody tr th:only-of-type {\n",
              "        vertical-align: middle;\n",
              "    }\n",
              "\n",
              "    .dataframe tbody tr th {\n",
              "        vertical-align: top;\n",
              "    }\n",
              "\n",
              "    .dataframe thead th {\n",
              "        text-align: right;\n",
              "    }\n",
              "</style>\n",
              "<table border=\"1\" class=\"dataframe\">\n",
              "  <thead>\n",
              "    <tr style=\"text-align: right;\">\n",
              "      <th></th>\n",
              "      <th>Number of fines issued per vehicle type</th>\n",
              "    </tr>\n",
              "    <tr>\n",
              "      <th>Vehicle_Type</th>\n",
              "      <th></th>\n",
              "    </tr>\n",
              "  </thead>\n",
              "  <tbody>\n",
              "    <tr>\n",
              "      <th>01a</th>\n",
              "      <td>215</td>\n",
              "    </tr>\n",
              "    <tr>\n",
              "      <th>02a</th>\n",
              "      <td>2</td>\n",
              "    </tr>\n",
              "    <tr>\n",
              "      <th>03a</th>\n",
              "      <td>11</td>\n",
              "    </tr>\n",
              "    <tr>\n",
              "      <th>04a</th>\n",
              "      <td>2890713</td>\n",
              "    </tr>\n",
              "    <tr>\n",
              "      <th>05a</th>\n",
              "      <td>6173</td>\n",
              "    </tr>\n",
              "    <tr>\n",
              "      <th>06a</th>\n",
              "      <td>10602</td>\n",
              "    </tr>\n",
              "    <tr>\n",
              "      <th>06b</th>\n",
              "      <td>5927</td>\n",
              "    </tr>\n",
              "    <tr>\n",
              "      <th>06c</th>\n",
              "      <td>12641</td>\n",
              "    </tr>\n",
              "    <tr>\n",
              "      <th>06d</th>\n",
              "      <td>189</td>\n",
              "    </tr>\n",
              "    <tr>\n",
              "      <th>07a</th>\n",
              "      <td>275</td>\n",
              "    </tr>\n",
              "    <tr>\n",
              "      <th>08a</th>\n",
              "      <td>1329</td>\n",
              "    </tr>\n",
              "    <tr>\n",
              "      <th>08b</th>\n",
              "      <td>922</td>\n",
              "    </tr>\n",
              "    <tr>\n",
              "      <th>09a</th>\n",
              "      <td>10</td>\n",
              "    </tr>\n",
              "    <tr>\n",
              "      <th>10a</th>\n",
              "      <td>297</td>\n",
              "    </tr>\n",
              "    <tr>\n",
              "      <th>11a</th>\n",
              "      <td>2365</td>\n",
              "    </tr>\n",
              "    <tr>\n",
              "      <th>11b</th>\n",
              "      <td>28</td>\n",
              "    </tr>\n",
              "    <tr>\n",
              "      <th>12a</th>\n",
              "      <td>3</td>\n",
              "    </tr>\n",
              "    <tr>\n",
              "      <th>13a</th>\n",
              "      <td>5</td>\n",
              "    </tr>\n",
              "    <tr>\n",
              "      <th>6</th>\n",
              "      <td>1</td>\n",
              "    </tr>\n",
              "    <tr>\n",
              "      <th>99a</th>\n",
              "      <td>603</td>\n",
              "    </tr>\n",
              "  </tbody>\n",
              "</table>\n",
              "</div>\n",
              "      <button class=\"colab-df-convert\" onclick=\"convertToInteractive('df-b378e17a-492c-4c82-9ef9-19644c4c2592')\"\n",
              "              title=\"Convert this dataframe to an interactive table.\"\n",
              "              style=\"display:none;\">\n",
              "        \n",
              "  <svg xmlns=\"http://www.w3.org/2000/svg\" height=\"24px\"viewBox=\"0 0 24 24\"\n",
              "       width=\"24px\">\n",
              "    <path d=\"M0 0h24v24H0V0z\" fill=\"none\"/>\n",
              "    <path d=\"M18.56 5.44l.94 2.06.94-2.06 2.06-.94-2.06-.94-.94-2.06-.94 2.06-2.06.94zm-11 1L8.5 8.5l.94-2.06 2.06-.94-2.06-.94L8.5 2.5l-.94 2.06-2.06.94zm10 10l.94 2.06.94-2.06 2.06-.94-2.06-.94-.94-2.06-.94 2.06-2.06.94z\"/><path d=\"M17.41 7.96l-1.37-1.37c-.4-.4-.92-.59-1.43-.59-.52 0-1.04.2-1.43.59L10.3 9.45l-7.72 7.72c-.78.78-.78 2.05 0 2.83L4 21.41c.39.39.9.59 1.41.59.51 0 1.02-.2 1.41-.59l7.78-7.78 2.81-2.81c.8-.78.8-2.07 0-2.86zM5.41 20L4 18.59l7.72-7.72 1.47 1.35L5.41 20z\"/>\n",
              "  </svg>\n",
              "      </button>\n",
              "      \n",
              "  <style>\n",
              "    .colab-df-container {\n",
              "      display:flex;\n",
              "      flex-wrap:wrap;\n",
              "      gap: 12px;\n",
              "    }\n",
              "\n",
              "    .colab-df-convert {\n",
              "      background-color: #E8F0FE;\n",
              "      border: none;\n",
              "      border-radius: 50%;\n",
              "      cursor: pointer;\n",
              "      display: none;\n",
              "      fill: #1967D2;\n",
              "      height: 32px;\n",
              "      padding: 0 0 0 0;\n",
              "      width: 32px;\n",
              "    }\n",
              "\n",
              "    .colab-df-convert:hover {\n",
              "      background-color: #E2EBFA;\n",
              "      box-shadow: 0px 1px 2px rgba(60, 64, 67, 0.3), 0px 1px 3px 1px rgba(60, 64, 67, 0.15);\n",
              "      fill: #174EA6;\n",
              "    }\n",
              "\n",
              "    [theme=dark] .colab-df-convert {\n",
              "      background-color: #3B4455;\n",
              "      fill: #D2E3FC;\n",
              "    }\n",
              "\n",
              "    [theme=dark] .colab-df-convert:hover {\n",
              "      background-color: #434B5C;\n",
              "      box-shadow: 0px 1px 3px 1px rgba(0, 0, 0, 0.15);\n",
              "      filter: drop-shadow(0px 1px 2px rgba(0, 0, 0, 0.3));\n",
              "      fill: #FFFFFF;\n",
              "    }\n",
              "  </style>\n",
              "\n",
              "      <script>\n",
              "        const buttonEl =\n",
              "          document.querySelector('#df-b378e17a-492c-4c82-9ef9-19644c4c2592 button.colab-df-convert');\n",
              "        buttonEl.style.display =\n",
              "          google.colab.kernel.accessAllowed ? 'block' : 'none';\n",
              "\n",
              "        async function convertToInteractive(key) {\n",
              "          const element = document.querySelector('#df-b378e17a-492c-4c82-9ef9-19644c4c2592');\n",
              "          const dataTable =\n",
              "            await google.colab.kernel.invokeFunction('convertToInteractive',\n",
              "                                                     [key], {});\n",
              "          if (!dataTable) return;\n",
              "\n",
              "          const docLinkHtml = 'Like what you see? Visit the ' +\n",
              "            '<a target=\"_blank\" href=https://colab.research.google.com/notebooks/data_table.ipynb>data table notebook</a>'\n",
              "            + ' to learn more about interactive tables.';\n",
              "          element.innerHTML = '';\n",
              "          dataTable['output_type'] = 'display_data';\n",
              "          await google.colab.output.renderOutput(dataTable, element);\n",
              "          const docLink = document.createElement('div');\n",
              "          docLink.innerHTML = docLinkHtml;\n",
              "          element.appendChild(docLink);\n",
              "        }\n",
              "      </script>\n",
              "    </div>\n",
              "  </div>\n",
              "  "
            ]
          },
          "metadata": {},
          "execution_count": 6
        }
      ]
    },
    {
      "cell_type": "markdown",
      "source": [
        "# Description:\n",
        "\n",
        "The number of fines issued per vehicle type is a fair representation of the data because it accurately shows the distribution of fines among different types of vehicles. This representation allows us to see which types of vehicles are more likely to recieve fines for speeding and identify and patterns or trends that may exist. by looking at this representation, we can also identify any potential biases in the enforcement of speed limits. for example, if one type  of vehicle os consistently revieving more fines than others, it could be to unfair targeting or due to behaviour of this vehicle group."
      ],
      "metadata": {
        "id": "ajwPSKe_IXbd"
      }
    },
    {
      "cell_type": "markdown",
      "source": [
        "# 3. Non-graphical Representation: Average speed limit exceeded by per year"
      ],
      "metadata": {
        "id": "YDSnK1yYJ0zc"
      }
    },
    {
      "cell_type": "code",
      "source": [
        "# Convert the \"Limit_Exceeded_By\" column to integers, ignoring the NaN values\n",
        "speed_fines['Limit_Exceeded_By'] = pd.to_numeric(speed_fines['Limit_Exceeded_By'], errors='coerce')\n",
        "\n",
        "# Group the data by year and apply the np.mean function to the \"Limit_Exceeded_By\" column\n",
        "avg_exceeded_by_per_year = speed_fines.groupby('Year')['Limit_Exceeded_By'].apply(np.mean).reset_index('Year')\n",
        "avg_exceeded_by_per_year.rename(columns = {'Limit_Exceeded_By' : 'Average speed limit exceeded by per year'}, inplace = True)\n",
        "\n",
        "# Print the resulting Series\n",
        "avg_exceeded_by_per_year[['Year', 'Average speed limit exceeded by per year']]"
      ],
      "metadata": {
        "colab": {
          "base_uri": "https://localhost:8080/",
          "height": 206
        },
        "id": "sqkMjVd-KBZH",
        "outputId": "0f911562-0948-4aad-eadd-878c6155a145"
      },
      "execution_count": 7,
      "outputs": [
        {
          "output_type": "execute_result",
          "data": {
            "text/plain": [
              "   Year  Average speed limit exceeded by per year\n",
              "0  2017                                 11.074706\n",
              "1  2018                                 10.840922\n",
              "2  2019                                 10.387268\n",
              "3  2020                                 10.350919\n",
              "4  2021                                  9.995810"
            ],
            "text/html": [
              "\n",
              "  <div id=\"df-1c9aa63b-9011-41fa-b394-fc5a2da31607\">\n",
              "    <div class=\"colab-df-container\">\n",
              "      <div>\n",
              "<style scoped>\n",
              "    .dataframe tbody tr th:only-of-type {\n",
              "        vertical-align: middle;\n",
              "    }\n",
              "\n",
              "    .dataframe tbody tr th {\n",
              "        vertical-align: top;\n",
              "    }\n",
              "\n",
              "    .dataframe thead th {\n",
              "        text-align: right;\n",
              "    }\n",
              "</style>\n",
              "<table border=\"1\" class=\"dataframe\">\n",
              "  <thead>\n",
              "    <tr style=\"text-align: right;\">\n",
              "      <th></th>\n",
              "      <th>Year</th>\n",
              "      <th>Average speed limit exceeded by per year</th>\n",
              "    </tr>\n",
              "  </thead>\n",
              "  <tbody>\n",
              "    <tr>\n",
              "      <th>0</th>\n",
              "      <td>2017</td>\n",
              "      <td>11.074706</td>\n",
              "    </tr>\n",
              "    <tr>\n",
              "      <th>1</th>\n",
              "      <td>2018</td>\n",
              "      <td>10.840922</td>\n",
              "    </tr>\n",
              "    <tr>\n",
              "      <th>2</th>\n",
              "      <td>2019</td>\n",
              "      <td>10.387268</td>\n",
              "    </tr>\n",
              "    <tr>\n",
              "      <th>3</th>\n",
              "      <td>2020</td>\n",
              "      <td>10.350919</td>\n",
              "    </tr>\n",
              "    <tr>\n",
              "      <th>4</th>\n",
              "      <td>2021</td>\n",
              "      <td>9.995810</td>\n",
              "    </tr>\n",
              "  </tbody>\n",
              "</table>\n",
              "</div>\n",
              "      <button class=\"colab-df-convert\" onclick=\"convertToInteractive('df-1c9aa63b-9011-41fa-b394-fc5a2da31607')\"\n",
              "              title=\"Convert this dataframe to an interactive table.\"\n",
              "              style=\"display:none;\">\n",
              "        \n",
              "  <svg xmlns=\"http://www.w3.org/2000/svg\" height=\"24px\"viewBox=\"0 0 24 24\"\n",
              "       width=\"24px\">\n",
              "    <path d=\"M0 0h24v24H0V0z\" fill=\"none\"/>\n",
              "    <path d=\"M18.56 5.44l.94 2.06.94-2.06 2.06-.94-2.06-.94-.94-2.06-.94 2.06-2.06.94zm-11 1L8.5 8.5l.94-2.06 2.06-.94-2.06-.94L8.5 2.5l-.94 2.06-2.06.94zm10 10l.94 2.06.94-2.06 2.06-.94-2.06-.94-.94-2.06-.94 2.06-2.06.94z\"/><path d=\"M17.41 7.96l-1.37-1.37c-.4-.4-.92-.59-1.43-.59-.52 0-1.04.2-1.43.59L10.3 9.45l-7.72 7.72c-.78.78-.78 2.05 0 2.83L4 21.41c.39.39.9.59 1.41.59.51 0 1.02-.2 1.41-.59l7.78-7.78 2.81-2.81c.8-.78.8-2.07 0-2.86zM5.41 20L4 18.59l7.72-7.72 1.47 1.35L5.41 20z\"/>\n",
              "  </svg>\n",
              "      </button>\n",
              "      \n",
              "  <style>\n",
              "    .colab-df-container {\n",
              "      display:flex;\n",
              "      flex-wrap:wrap;\n",
              "      gap: 12px;\n",
              "    }\n",
              "\n",
              "    .colab-df-convert {\n",
              "      background-color: #E8F0FE;\n",
              "      border: none;\n",
              "      border-radius: 50%;\n",
              "      cursor: pointer;\n",
              "      display: none;\n",
              "      fill: #1967D2;\n",
              "      height: 32px;\n",
              "      padding: 0 0 0 0;\n",
              "      width: 32px;\n",
              "    }\n",
              "\n",
              "    .colab-df-convert:hover {\n",
              "      background-color: #E2EBFA;\n",
              "      box-shadow: 0px 1px 2px rgba(60, 64, 67, 0.3), 0px 1px 3px 1px rgba(60, 64, 67, 0.15);\n",
              "      fill: #174EA6;\n",
              "    }\n",
              "\n",
              "    [theme=dark] .colab-df-convert {\n",
              "      background-color: #3B4455;\n",
              "      fill: #D2E3FC;\n",
              "    }\n",
              "\n",
              "    [theme=dark] .colab-df-convert:hover {\n",
              "      background-color: #434B5C;\n",
              "      box-shadow: 0px 1px 3px 1px rgba(0, 0, 0, 0.15);\n",
              "      filter: drop-shadow(0px 1px 2px rgba(0, 0, 0, 0.3));\n",
              "      fill: #FFFFFF;\n",
              "    }\n",
              "  </style>\n",
              "\n",
              "      <script>\n",
              "        const buttonEl =\n",
              "          document.querySelector('#df-1c9aa63b-9011-41fa-b394-fc5a2da31607 button.colab-df-convert');\n",
              "        buttonEl.style.display =\n",
              "          google.colab.kernel.accessAllowed ? 'block' : 'none';\n",
              "\n",
              "        async function convertToInteractive(key) {\n",
              "          const element = document.querySelector('#df-1c9aa63b-9011-41fa-b394-fc5a2da31607');\n",
              "          const dataTable =\n",
              "            await google.colab.kernel.invokeFunction('convertToInteractive',\n",
              "                                                     [key], {});\n",
              "          if (!dataTable) return;\n",
              "\n",
              "          const docLinkHtml = 'Like what you see? Visit the ' +\n",
              "            '<a target=\"_blank\" href=https://colab.research.google.com/notebooks/data_table.ipynb>data table notebook</a>'\n",
              "            + ' to learn more about interactive tables.';\n",
              "          element.innerHTML = '';\n",
              "          dataTable['output_type'] = 'display_data';\n",
              "          await google.colab.output.renderOutput(dataTable, element);\n",
              "          const docLink = document.createElement('div');\n",
              "          docLink.innerHTML = docLinkHtml;\n",
              "          element.appendChild(docLink);\n",
              "        }\n",
              "      </script>\n",
              "    </div>\n",
              "  </div>\n",
              "  "
            ]
          },
          "metadata": {},
          "execution_count": 7
        }
      ]
    },
    {
      "cell_type": "markdown",
      "source": [
        "# Description:\n",
        "\n",
        "This representation of the data shows the trend in the amount by which the speed limit was exceeded over time. It allows us to see if the average amount of speed limit exceeded is increasing or decreasing over the years and identify any patterns or trends that may exist. This representation can be useful for policymakers to see if their developt strategies reduce the average amount of speed limits exceeded, which will help to understand if their strategies are working."
      ],
      "metadata": {
        "id": "_3TcZSmbQ3Nt"
      }
    },
    {
      "cell_type": "markdown",
      "source": [
        "# 1. Graphical representation: boxplot of the distribution of speed limit exceeded by each time of day"
      ],
      "metadata": {
        "id": "bFjyZ7FsVVLx"
      }
    },
    {
      "cell_type": "code",
      "source": [
        "# Define a function to convert the time column to the HH:MM:SS format\n",
        "def convert_time(time):\n",
        "    # Convert the time to a string\n",
        "    time_str = str(time)\n",
        "\n",
        "    # Pad the time with zeros if necessary\n",
        "    time_str = time_str.zfill(6)\n",
        "\n",
        "    # Split the time into hours, minutes, and seconds\n",
        "    hours = time_str[:2]\n",
        "    minutes = time_str[2:4]\n",
        "    seconds = time_str[4:]\n",
        "\n",
        "    # Return the time in the HH:MM:SS format\n",
        "    return f\"{hours}:{minutes}:{seconds}\"\n",
        "\n",
        "# Convert the time column to the HH:MM:SS format\n",
        "speed_fines[\"Time\"] = speed_fines[\"Time\"].apply(convert_time)\n",
        "\n",
        "# Extract the hour from the 'Time' column and create a new 'Hour' column\n",
        "speed_fines['Hour'] = speed_fines['Time'].str.slice(0, 2)\n",
        "\n",
        "# Convert the 'Hour' column to integer format\n",
        "speed_fines['Hour'] = speed_fines['Hour'].astype(int)\n",
        "\n",
        "\n",
        "# Plot the boxplot using the 'Limit Exceeded By' column as the y-axis and the 'Hour' column as the x-axis\n",
        "plt.figure(figsize = (20,6))\n",
        "bp = sns.boxplot(x='Hour', y='Limit_Exceeded_By', data=speed_fines, fliersize=0, color = 'white')\n",
        "bp.set_ylim(0,30)\n",
        "bp.set_yticks(range(0, 32, 2))\n",
        "plt.title('Distribution of speed limit exceeded by each time of the day')\n",
        "plt.ylabel('Limit exceeded by km/h')\n",
        "plt.xlabel('Hours of the day');\n"
      ],
      "metadata": {
        "colab": {
          "base_uri": "https://localhost:8080/",
          "height": 404
        },
        "id": "MU09GH_XXqM_",
        "outputId": "86080b2f-dc17-4a8c-f203-29dcb7ff59a4"
      },
      "execution_count": 8,
      "outputs": [
        {
          "output_type": "display_data",
          "data": {
            "text/plain": [
              "<Figure size 1440x432 with 1 Axes>"
            ],
            "image/png": "[encoded data removed]"
          },
          "metadata": {
            "needs_background": "light"
          }
        }
      ]
    },
    {
      "cell_type": "markdown",
      "source": [
        "# Description:\n",
        "\n",
        "This boxplot can provide insights into when speeding violations are most common and whether there is a relationship between the time of day and the extent to which the speed limit is exceeded. This can be relevant for understanding when and where speeding is more likely to occur. The bosplot allows for easy comparison of the distribution of the data across different time periods and can help identify patterns or trends in the data. It can help to identify times of the day, where speeding is more common (For Example: At night, rush hours, etc.). This could then be used to start targeted enforcment efforts."
      ],
      "metadata": {
        "id": "YX70yg91Iray"
      }
    },
    {
      "cell_type": "markdown",
      "source": [
        "# 2. Graphical representation: bar chart for comparison of the fines per month for the months from 2017 and 2018"
      ],
      "metadata": {
        "id": "ojSgwHL2b1Ks"
      }
    },
    {
      "cell_type": "code",
      "source": [
        "# Convert the integers to month names\n",
        "speed_fines[\"Month\"] = speed_fines[\"Month\"].apply(lambda x: calendar.month_name[x])\n",
        "\n",
        "# Group speed_fines by Year and Month, select only 2017 and 2018\n",
        "fines_by_month = speed_fines.groupby([\"Year\", \"Month\"], sort = False).size()\n",
        "fines_by_month_2017_2018 =  fines_by_month.loc[(fines_by_month.index.get_level_values(0) == 2017) | (fines_by_month.index.get_level_values(0) == 2018)]\n",
        "\n",
        "# Extract the month and year values for the x-axis\n",
        "x = [f\"{year}-{month}\" for year, month in fines_by_month_2017_2018.index]\n",
        "\n",
        "# Extract the fines values for the y-axis\n",
        "y = fines_by_month_2017_2018.values\n",
        "\n",
        "# Create a new variable to specify the groups for the bars\n",
        "groups = ['2017'] * 12 + ['2018'] * 12\n",
        "\n",
        "# Create the bar plot\n",
        "plt.figure(figsize = (10,5))\n",
        "sns.barplot(x = x, y = y, hue = groups)\n",
        "\n",
        "# Add axis labels and a title\n",
        "plt.xlabel(\"Month and Year\")\n",
        "plt.ylabel(\"Number of Fines\")\n",
        "plt.title(\"Number of Speed Control Fines per Month\")\n",
        "\n",
        "# Rotate the x-axis labels\n",
        "plt.xticks(rotation = 90);"
      ],
      "metadata": {
        "colab": {
          "base_uri": "https://localhost:8080/",
          "height": 423
        },
        "id": "gAkbn8VShJpW",
        "outputId": "a8497fa2-816d-4593-dc45-bd58813d9623"
      },
      "execution_count": 9,
      "outputs": [
        {
          "output_type": "display_data",
          "data": {
            "text/plain": [
              "<Figure size 720x360 with 1 Axes>"
            ],
            "image/png": "[encoded data removed]"
          },
          "metadata": {
            "needs_background": "light"
          }
        }
      ]
    },
    {
      "cell_type": "markdown",
      "source": [
        "# Description:\n",
        "\n",
        "The bar chart displays the number of fines issued over the course of two years, with the months of the year displayed on the x-axis and the number of fines on the y-axis. Each month is represented by a seperate bar, with data for both 2017 and 2018 included on the chart and distinguished by different colors. From this representation, it is possible to see the number of fines issued in each month for both years, allowing for a deatailed comparison of the data over time. This information may be useful for understanding the seasonal trends in the issuance of fines, identifying and significant chnages in the data from one year to the next, and potentially identifying factors that may have contributed to any changes in the number of fines."
      ],
      "metadata": {
        "id": "MASe25zdbjYN"
      }
    },
    {
      "cell_type": "markdown",
      "source": [
        "# 3. Graphical representation: Number of fines over the years for the location 40 as a scatterplot\n"
      ],
      "metadata": {
        "id": "ky_7VczIfmbA"
      }
    },
    {
      "cell_type": "code",
      "source": [
        "# Groub speed_fines by location 40 and get number of fines per year\n",
        "fines_location_40 = speed_fines[speed_fines['Location'] == 40]\n",
        "fines_location_40_per_year = fines_location_40.groupby(['Year', 'Month'], sort = False).size()\n",
        "\n",
        "# Extract the month and year values for the x-axis\n",
        "x = [f\"{year}-{month}\" for year, month in fines_location_40_per_year.index]\n",
        "\n",
        "# Extract the fines values for the y-axis\n",
        "y = fines_location_40_per_year.values\n",
        "\n",
        "# Create the line chart plot\n",
        "plt.figure(figsize= (15,5))\n",
        "sns.scatterplot(x = x, y = y, data = fines_location_40_per_year, hue = 'Year', palette = 'colorblind')\n",
        "plt.xlabel(\"Month and Year\")\n",
        "plt.ylabel(\"Number of Fines\")\n",
        "plt.title(\"Number of Speed Control Fines at location 40 over the years\")\n",
        "plt.xticks(rotation = 90);"
      ],
      "metadata": {
        "colab": {
          "base_uri": "https://localhost:8080/",
          "height": 423
        },
        "id": "_cHJTVOhfsVp",
        "outputId": "a3000cab-5c37-406f-eab1-a73707a982d8"
      },
      "execution_count": 10,
      "outputs": [
        {
          "output_type": "display_data",
          "data": {
            "text/plain": [
              "<Figure size 1080x360 with 1 Axes>"
            ],
            "image/png": "[encoded data removed]"
          },
          "metadata": {
            "needs_background": "light"
          }
        }
      ]
    },
    {
      "cell_type": "markdown",
      "source": [
        "# Description:\n",
        "\n",
        "This scatterplot can be used to visualize the trend in the number of fines at location 40 from 2017 to 2021. This representation allows you to see how the number of fines at that location has changed over the years and identify any patterns or trends in the data. The insights derived from this representation can be relevant for understanding the effectiveness of speed control measures at that location and identifying areas where additional efforts may be needed to improve traffic safety."
      ],
      "metadata": {
        "id": "UtkeCx3uqPjn"
      }
    },
    {
      "cell_type": "markdown",
      "source": [
        "# 4. Graphical representation: bar chart showing the average speed limit exceeded by for every vehicle type"
      ],
      "metadata": {
        "id": "p7npPXUrsj97"
      }
    },
    {
      "cell_type": "code",
      "source": [
        "# Calculate the average speed limit exceeded by each vehicle type\n",
        "vehicle_type_means = speed_fines.groupby(\"Vehicle_Type\")[\"Limit_Exceeded_By\"].mean()\n",
        "\n",
        "# Create the bar chart\n",
        "plt.figure(figsize = (14,5))\n",
        "sns.barplot(x=vehicle_type_means.index, y=vehicle_type_means.values, color = 'grey')\n",
        "\n",
        "# Add labels to the chart\n",
        "plt.xlabel(\"Vehicle Type\");\n",
        "plt.ylabel(\"Average Speed Limit Exceeded\");\n",
        "plt.title(\"Average speed limit exceeded by for every vehicle type\");\n"
      ],
      "metadata": {
        "id": "QwJay9WvsotN",
        "colab": {
          "base_uri": "https://localhost:8080/",
          "height": 350
        },
        "outputId": "b1f59a4f-0223-482f-ebeb-90171022cc88"
      },
      "execution_count": 11,
      "outputs": [
        {
          "output_type": "display_data",
          "data": {
            "text/plain": [
              "<Figure size 1008x360 with 1 Axes>"
            ],
            "image/png": "[encoded data removed]"
          },
          "metadata": {
            "needs_background": "light"
          }
        }
      ]
    },
    {
      "cell_type": "markdown",
      "source": [
        "# Description:\n",
        "\n",
        "This bar chart can provide serveral interesting insights into the speed control fines data. It allows us to compare the average speed limit exceeded by different types of vehicles which can help us understand whether certain types of vehicles are more likely to be involved in speeding incidents. For example, if the chart showed us that trucks are more likely to exceed the speed limit to a higher amount compared to other vehicle types, this could be a signal that more efforts should be focused on reducing speeding by trucks."
      ],
      "metadata": {
        "id": "pP5xhXAQH8q5"
      }
    },
    {
      "cell_type": "markdown",
      "source": [
        "# 5. Graphical representation: bar chart showing the number of fines for each department in the years 2018-2021"
      ],
      "metadata": {
        "id": "3Vdf9WuiJ0ux"
      }
    },
    {
      "cell_type": "code",
      "source": [
        "# Group the data by department and count the number of fines in each department\n",
        "fines_by_department = speed_fines.groupby(['Year', 'Department']).size()\n",
        "\n",
        "# Extract the month and year values for the x-axis\n",
        "x = [f\"{year}-{department}\" for year, department in fines_by_department.index]\n",
        "\n",
        "# Extract the fines values for the y-axis\n",
        "y = fines_by_department.values\n",
        "\n",
        "# Create the bar plot\n",
        "plt.figure(figsize = (10,5))\n",
        "sns.barplot(x = x, y = y,hue = fines_by_department.index.get_level_values(1))\n",
        "\n",
        "# Add axis labels and a title\n",
        "plt.xlabel(\"Year and Department\")\n",
        "plt.ylabel(\"Number of Fines\")\n",
        "plt.title(\"Number of Speed Control Fines per Department from 2018-2021\")\n",
        "\n",
        "# Rotate the x-axis labels\n",
        "plt.xticks(rotation = 90);\n"
      ],
      "metadata": {
        "colab": {
          "base_uri": "https://localhost:8080/",
          "height": 391
        },
        "id": "7o3gJqzdJ6Zz",
        "outputId": "88a64dc3-70da-4b79-e6ab-189660e6aa9a"
      },
      "execution_count": 12,
      "outputs": [
        {
          "output_type": "display_data",
          "data": {
            "text/plain": [
              "<Figure size 720x360 with 1 Axes>"
            ],
            "image/png": "[encoded data removed]"
          },
          "metadata": {
            "needs_background": "light"
          }
        }
      ]
    },
    {
      "cell_type": "markdown",
      "source": [
        "# Describtion:\n",
        "\n",
        "This bar plot shows the number of speed control fines issued by each department from 2018 to 2021. The insight that can be gained from this representation is the realtive number of fines issued by each department in each year. For example, if one department consistenly has a higher number of fines than other depaertments, it may suggest that this department has a higher rate of speeding violations. This informartion could be relevant for identifying areas for improvment in traffic safety. Another insight that can be gained from this representation is that, if the number of fines is increasing or decreasing in a particular department or all departments, it could indicate changes in the effectivness of enforcment or in the driving behaviour of the population."
      ],
      "metadata": {
        "id": "P6eHzRqsp4uq"
      }
    },
    {
      "cell_type": "markdown",
      "source": [
        "# 6. Graphical Representation: bar chart showing the number of fines for the 10 most finned city plates in 2020 compared to 2021"
      ],
      "metadata": {
        "id": "igbhH9OXsO0w"
      }
    },
    {
      "cell_type": "code",
      "source": [
        "# Get the data for 2020 and 2021\n",
        "speed_fines_2020 = speed_fines[speed_fines['Year'] == 2020]\n",
        "speed_fines_2021 = speed_fines[speed_fines['Year'] == 2021]\n",
        "\n",
        "# Use a regular expression to extract the letters from the License_Plate_City column\n",
        "speed_fines.loc[speed_fines_2020.index, \"License_Plate_City\"] = speed_fines_2020[\"License_Plate_City\"].str.extract(r'([a-zA-Z]+)', expand=False)\n",
        "speed_fines.loc[speed_fines_2021.index, \"License_Plate_City\"] = speed_fines_2021[\"License_Plate_City\"].str.extract(r'([a-zA-Z]+)', expand=False)\n",
        "\n",
        "# Get the 10 most common for each year\n",
        "common_2020 = speed_fines_2020.groupby('License_Plate_City').size().sort_values(ascending = False).head(10)\n",
        "common_2021 = speed_fines_2021.groupby('License_Plate_City').size().sort_values(ascending = False).head(10)\n",
        "\n",
        "# Set the figure size\n",
        "plt.figure(figsize=(10, 5))\n",
        "\n",
        "# Set the bar width\n",
        "bar_width = 0.4\n",
        "\n",
        "# Set the locations for the tick marks on the x-axis\n",
        "x_pos = [i for i, _ in enumerate(common_2020.index)]\n",
        "\n",
        "# Plot the bar chart\n",
        "plt.bar(x_pos, common_2020.values, width=bar_width, label='2020')\n",
        "plt.bar([i + bar_width for i in x_pos], common_2021.values, width=bar_width, label='2021')\n",
        "\n",
        "# Add a legend\n",
        "plt.legend()\n",
        "\n",
        "# Add a title and labels for the x and y axes\n",
        "plt.title('Number of fines for the most common city plates in 2020 and 2021')\n",
        "plt.xlabel('City Plate')\n",
        "plt.ylabel('Number of Fines')\n",
        "\n",
        "# Set the locations and labels for the tick marks on the x-axis\n",
        "plt.xticks([i + bar_width / 2 for i in x_pos], common_2020.index)\n",
        "\n",
        "# Show the plot\n",
        "plt.show()"
      ],
      "metadata": {
        "colab": {
          "base_uri": "https://localhost:8080/",
          "height": 350
        },
        "id": "4rn8SFHCsSu5",
        "outputId": "8f580c57-c339-43ad-af86-ef8a3d8e4645"
      },
      "execution_count": 17,
      "outputs": [
        {
          "output_type": "display_data",
          "data": {
            "text/plain": [
              "<Figure size 720x360 with 1 Axes>"
            ],
            "image/png": "[encoded data removed]"
          },
          "metadata": {
            "needs_background": "light"
          }
        }
      ]
    },
    {
      "cell_type": "markdown",
      "source": [
        "# Description:\n",
        "\n",
        "This bar chart shows the number of speed control fines issued in 2020 compared to those in 2021 for the 10 most issued 'Licence_City_Plates'. This chart makes it easy to see which city plates have the most fines and helps to understand the distribution of fines across the cities and identify any patterns or trends.\n",
        "It can also help identify if for example the locals get more used to the speed control measures or other enforcments if u could see a significant dropped from one year to another."
      ],
      "metadata": {
        "id": "45F-4OvJyqBw"
      }
    }
  ]
}